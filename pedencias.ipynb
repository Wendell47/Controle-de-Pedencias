{
 "cells": [
  {
   "cell_type": "code",
   "execution_count": null,
   "metadata": {},
   "outputs": [],
   "source": [
    "import pandas as pd\n",
    "\n",
    "url = 'https://bemol-my.sharepoint.com/:x:/r/personal/maddiellabrada_bemol_com_br/Documents/LOGREV/Controle%20geral%20de%20pend%C3%AAncias%20CAC%20e%20Reclama%C3%A7%C3%B5es%20VAREJO.xlsx?d=w229cc33d79b6470e9c82300bd9fe5323&csf=1&web=1&e=u5cmEe'\n",
    "df = pd.read_csv(url)\n",
    "\n",
    "df.head()"
   ]
  }
 ],
 "metadata": {
  "language_info": {
   "name": "python"
  }
 },
 "nbformat": 4,
 "nbformat_minor": 2
}
